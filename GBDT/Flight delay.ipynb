{
 "cells": [
  {
   "cell_type": "code",
   "execution_count": 4,
   "metadata": {},
   "outputs": [],
   "source": [
    "import xgboost as xgb\n",
    "import pandas as pd\n",
    "from sklearn import preprocessing\n",
    "from sklearn.metrics import roc_auc_score\n",
    "import pyspark.sql.functions as SF"
   ]
  },
  {
   "cell_type": "code",
   "execution_count": 9,
   "metadata": {},
   "outputs": [],
   "source": [
    "df_test = spark.read.format(\"csv\").option(\"header\", \"true\").load(\"/home/maria/Documents/ML/GradientBoost/flight_delays_test.csv\")\n",
    "df1 = spark.read.format(\"csv\").option(\"header\", \"true\").load(\"/home/maria/Documents/ML/GradientBoost/flight_delays_train.csv\")"
   ]
  },
  {
   "cell_type": "code",
   "execution_count": 10,
   "metadata": {},
   "outputs": [],
   "source": [
    "#UDF para tratamento nos Nomes e conseguir retornar apenas os sobrenomes\n",
    "@SF.udf(\"Int\")\n",
    "def fix_string(aux):\n",
    "    \n",
    "    if aux is None:\n",
    "        return None\n",
    "    else: \n",
    "        aux1= aux.split(\"-\")\n",
    "        return int(aux1[1])"
   ]
  },
  {
   "cell_type": "code",
   "execution_count": 11,
   "metadata": {},
   "outputs": [],
   "source": [
    "df_test1=df_test.withColumn(\"dep_delayed_15min\",SF.lit(\"0\"))\n",
    "df_test=df_test.withColumn(\"Month\",fix_string(\"Month\"))\n",
    "df_test=df_test.withColumn(\"DayofMonth\",fix_string(\"DayofMonth\"))\n",
    "df_test=df_test.withColumn(\"DayOfWeek\",fix_string(\"DayOfWeek\"))\n",
    "df_test=df_test.withColumn(\"Distance\", df_test[\"Distance\"].cast(\"Int\"))\n",
    "df_test=df_test.withColumn(\"DepTime\", df_test[\"DepTime\"].cast(\"Int\"))\n",
    "df_test1=df_test.withColumn(\"dep_delayed_15min\",SF.lit(\"0\"))\n",
    "\n",
    "\n"
   ]
  },
  {
   "cell_type": "code",
   "execution_count": 12,
   "metadata": {},
   "outputs": [],
   "source": [
    "df1=df1.withColumn(\"Month\",fix_string(\"Month\"))\n",
    "df1=df1.withColumn(\"DayofMonth\",fix_string(\"DayofMonth\"))\n",
    "df1=df1.withColumn(\"DayOfWeek\",fix_string(\"DayOfWeek\"))\n",
    "df1=df1.withColumn(\"dep_delayed_15min\", SF.when(SF.col(\"dep_delayed_15min\") == \"N\",0)\n",
    "      .when(SF.col(\"dep_delayed_15min\") == \"Y\",1)\n",
    "      .otherwise(\"Unknown\"))\n",
    "df1=df1.withColumn(\"Distance\", df1[\"Distance\"].cast(\"Int\"))\n",
    "df1=df1.withColumn(\"DepTime\", df1[\"DepTime\"].cast(\"Int\"))\n"
   ]
  },
  {
   "cell_type": "code",
   "execution_count": 13,
   "metadata": {},
   "outputs": [],
   "source": [
    "df_union=df1.union(df_test1)\n",
    "aux=df_union.select(\"Dest\")\n",
    "aux2=df_union.select(\"Origin\")\n",
    "df_union1=df_union.select('UniqueCarrier').distinct()\n",
    "df_union2=aux.union(aux2).distinct()"
   ]
  },
  {
   "cell_type": "code",
   "execution_count": 14,
   "metadata": {},
   "outputs": [],
   "source": [
    "df_test1=df_test.toPandas()\n",
    "df11=df1.toPandas()\n",
    "df_union3=df_union1.toPandas()\n",
    "df_union4=df_union2.toPandas()"
   ]
  },
  {
   "cell_type": "code",
   "execution_count": 15,
   "metadata": {},
   "outputs": [],
   "source": [
    "df_train1=df11.drop(\"dep_delayed_15min\",axis=1)\n",
    "df_train_target1=df11[\"dep_delayed_15min\"]"
   ]
  },
  {
   "cell_type": "code",
   "execution_count": 16,
   "metadata": {},
   "outputs": [],
   "source": [
    "le1 = preprocessing.LabelEncoder()\n",
    "le2 = preprocessing.LabelEncoder()\n",
    "\n",
    "le1.fit_transform(df_union3[\"UniqueCarrier\"])\n",
    "le2.fit_transform(df_union4[\"Dest\"])\n",
    "\n",
    "df_train1[\"UniqueCarrier\"]=le1.transform(df_train1[\"UniqueCarrier\"])\n",
    "df_train1[\"Origin\"]=le2.transform(df_train1[\"Origin\"])\n",
    "df_train1[\"Dest\"]=le2.transform(df_train1[\"Dest\"])\n",
    "\n",
    "df_test1[\"UniqueCarrier\"]=le1.transform(df_test1[\"UniqueCarrier\"])\n",
    "df_test1[\"Origin\"]=le2.transform(df_test1[\"Origin\"])\n",
    "df_test1[\"Dest\"]=le2.transform(df_test1[\"Dest\"])\n"
   ]
  },
  {
   "cell_type": "code",
   "execution_count": 149,
   "metadata": {
    "scrolled": true
   },
   "outputs": [
    {
     "data": {
      "text/html": [
       "<div>\n",
       "<style scoped>\n",
       "    .dataframe tbody tr th:only-of-type {\n",
       "        vertical-align: middle;\n",
       "    }\n",
       "\n",
       "    .dataframe tbody tr th {\n",
       "        vertical-align: top;\n",
       "    }\n",
       "\n",
       "    .dataframe thead th {\n",
       "        text-align: right;\n",
       "    }\n",
       "</style>\n",
       "<table border=\"1\" class=\"dataframe\">\n",
       "  <thead>\n",
       "    <tr style=\"text-align: right;\">\n",
       "      <th></th>\n",
       "      <th>Month</th>\n",
       "      <th>DayofMonth</th>\n",
       "      <th>DayOfWeek</th>\n",
       "      <th>DepTime</th>\n",
       "      <th>UniqueCarrier</th>\n",
       "      <th>Origin</th>\n",
       "      <th>Dest</th>\n",
       "      <th>Distance</th>\n",
       "    </tr>\n",
       "  </thead>\n",
       "  <tbody>\n",
       "    <tr>\n",
       "      <th>count</th>\n",
       "      <td>100000.000000</td>\n",
       "      <td>100000.000000</td>\n",
       "      <td>100000.00000</td>\n",
       "      <td>100000.000000</td>\n",
       "      <td>100000.000000</td>\n",
       "      <td>100000.000000</td>\n",
       "      <td>100000.000000</td>\n",
       "      <td>100000.00000</td>\n",
       "    </tr>\n",
       "    <tr>\n",
       "      <th>mean</th>\n",
       "      <td>6.537640</td>\n",
       "      <td>15.703850</td>\n",
       "      <td>3.95183</td>\n",
       "      <td>1341.523880</td>\n",
       "      <td>13.045040</td>\n",
       "      <td>149.365770</td>\n",
       "      <td>149.293960</td>\n",
       "      <td>729.39716</td>\n",
       "    </tr>\n",
       "    <tr>\n",
       "      <th>std</th>\n",
       "      <td>3.413447</td>\n",
       "      <td>8.793931</td>\n",
       "      <td>1.99164</td>\n",
       "      <td>476.378445</td>\n",
       "      <td>6.566272</td>\n",
       "      <td>80.935548</td>\n",
       "      <td>81.130353</td>\n",
       "      <td>574.61686</td>\n",
       "    </tr>\n",
       "    <tr>\n",
       "      <th>min</th>\n",
       "      <td>1.000000</td>\n",
       "      <td>1.000000</td>\n",
       "      <td>1.00000</td>\n",
       "      <td>1.000000</td>\n",
       "      <td>1.000000</td>\n",
       "      <td>0.000000</td>\n",
       "      <td>0.000000</td>\n",
       "      <td>30.00000</td>\n",
       "    </tr>\n",
       "    <tr>\n",
       "      <th>25%</th>\n",
       "      <td>4.000000</td>\n",
       "      <td>8.000000</td>\n",
       "      <td>2.00000</td>\n",
       "      <td>931.000000</td>\n",
       "      <td>7.000000</td>\n",
       "      <td>81.000000</td>\n",
       "      <td>81.000000</td>\n",
       "      <td>317.00000</td>\n",
       "    </tr>\n",
       "    <tr>\n",
       "      <th>50%</th>\n",
       "      <td>7.000000</td>\n",
       "      <td>16.000000</td>\n",
       "      <td>4.00000</td>\n",
       "      <td>1330.000000</td>\n",
       "      <td>14.000000</td>\n",
       "      <td>159.000000</td>\n",
       "      <td>159.000000</td>\n",
       "      <td>575.00000</td>\n",
       "    </tr>\n",
       "    <tr>\n",
       "      <th>75%</th>\n",
       "      <td>9.000000</td>\n",
       "      <td>23.000000</td>\n",
       "      <td>6.00000</td>\n",
       "      <td>1733.000000</td>\n",
       "      <td>19.000000</td>\n",
       "      <td>214.000000</td>\n",
       "      <td>214.000000</td>\n",
       "      <td>957.00000</td>\n",
       "    </tr>\n",
       "    <tr>\n",
       "      <th>max</th>\n",
       "      <td>12.000000</td>\n",
       "      <td>31.000000</td>\n",
       "      <td>7.00000</td>\n",
       "      <td>2534.000000</td>\n",
       "      <td>22.000000</td>\n",
       "      <td>306.000000</td>\n",
       "      <td>306.000000</td>\n",
       "      <td>4962.00000</td>\n",
       "    </tr>\n",
       "  </tbody>\n",
       "</table>\n",
       "</div>"
      ],
      "text/plain": [
       "               Month     DayofMonth     DayOfWeek        DepTime  \\\n",
       "count  100000.000000  100000.000000  100000.00000  100000.000000   \n",
       "mean        6.537640      15.703850       3.95183    1341.523880   \n",
       "std         3.413447       8.793931       1.99164     476.378445   \n",
       "min         1.000000       1.000000       1.00000       1.000000   \n",
       "25%         4.000000       8.000000       2.00000     931.000000   \n",
       "50%         7.000000      16.000000       4.00000    1330.000000   \n",
       "75%         9.000000      23.000000       6.00000    1733.000000   \n",
       "max        12.000000      31.000000       7.00000    2534.000000   \n",
       "\n",
       "       UniqueCarrier         Origin           Dest      Distance  \n",
       "count  100000.000000  100000.000000  100000.000000  100000.00000  \n",
       "mean       13.045040     149.365770     149.293960     729.39716  \n",
       "std         6.566272      80.935548      81.130353     574.61686  \n",
       "min         1.000000       0.000000       0.000000      30.00000  \n",
       "25%         7.000000      81.000000      81.000000     317.00000  \n",
       "50%        14.000000     159.000000     159.000000     575.00000  \n",
       "75%        19.000000     214.000000     214.000000     957.00000  \n",
       "max        22.000000     306.000000     306.000000    4962.00000  "
      ]
     },
     "execution_count": 149,
     "metadata": {},
     "output_type": "execute_result"
    }
   ],
   "source": [
    "df_train1.describe()"
   ]
  },
  {
   "cell_type": "code",
   "execution_count": 17,
   "metadata": {},
   "outputs": [
    {
     "data": {
      "text/plain": [
       "0.919131696342652"
      ]
     },
     "execution_count": 17,
     "metadata": {},
     "output_type": "execute_result"
    }
   ],
   "source": [
    "model = xgb.XGBClassifier(learning_rate=0.05,max_depth= 10,min_child_weight= 1,n_estimators= 200,colsample_bylevel=1,\n",
    "              colsample_bynode=1, colsample_bytree=0.5,)\n",
    "\n",
    "model.fit(df_train1,df_train_target1)\n",
    "Y_pred=model.predict_proba(df_train1)[:, 1]\n",
    "roc_auc_score(df_train_target1, Y_pred)\n"
   ]
  },
  {
   "cell_type": "code",
   "execution_count": 159,
   "metadata": {},
   "outputs": [],
   "source": [
    "teste_pred=model.predict_proba(df_test1)[:, 1]\n",
    "\n",
    "pd.Series(teste_pred, name='dep_delayed_15min').to_csv('teste_LightGBM.csv', index_label='id', header=True)"
   ]
  }
 ],
 "metadata": {
  "kernelspec": {
   "display_name": "Python 3",
   "language": "python",
   "name": "python3"
  },
  "language_info": {
   "codemirror_mode": {
    "name": "ipython",
    "version": 3
   },
   "file_extension": ".py",
   "mimetype": "text/x-python",
   "name": "python",
   "nbconvert_exporter": "python",
   "pygments_lexer": "ipython3",
   "version": "3.6.10"
  }
 },
 "nbformat": 4,
 "nbformat_minor": 4
}
