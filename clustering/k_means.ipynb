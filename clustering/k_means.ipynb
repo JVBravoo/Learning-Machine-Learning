{
 "cells": [
  {
   "cell_type": "code",
   "execution_count": 1,
   "metadata": {},
   "outputs": [
    {
     "name": "stdout",
     "output_type": "stream",
     "text": [
      "Requirement already satisfied: pandas in /usr/local/Cellar/jupyterlab/2.1.1/libexec/lib/python3.8/site-packages (1.0.3)\n",
      "Requirement already satisfied: numpy>=1.13.3 in /usr/local/Cellar/jupyterlab/2.1.1/libexec/lib/python3.8/site-packages (from pandas) (1.18.3)\n",
      "Requirement already satisfied: python-dateutil>=2.6.1 in /usr/local/Cellar/jupyterlab/2.1.1/libexec/lib/python3.8/site-packages (from pandas) (2.8.1)\n",
      "Requirement already satisfied: pytz>=2017.2 in /usr/local/Cellar/jupyterlab/2.1.1/libexec/lib/python3.8/site-packages (from pandas) (2020.1)\n",
      "Requirement already satisfied: six>=1.5 in /usr/local/Cellar/jupyterlab/2.1.1/libexec/lib/python3.8/site-packages (from python-dateutil>=2.6.1->pandas) (1.14.0)\n",
      "Note: you may need to restart the kernel to use updated packages.\n"
     ]
    }
   ],
   "source": [
    "pip install pandas"
   ]
  },
  {
   "cell_type": "code",
   "execution_count": 2,
   "metadata": {},
   "outputs": [
    {
     "name": "stdout",
     "output_type": "stream",
     "text": [
      "Requirement already satisfied: numpy in /usr/local/Cellar/jupyterlab/2.1.1/libexec/lib/python3.8/site-packages (1.18.3)\n",
      "Note: you may need to restart the kernel to use updated packages.\n"
     ]
    }
   ],
   "source": [
    "pip install numpy"
   ]
  },
  {
   "cell_type": "code",
   "execution_count": 3,
   "metadata": {},
   "outputs": [
    {
     "name": "stdout",
     "output_type": "stream",
     "text": [
      "Requirement already satisfied: sklearn in /usr/local/Cellar/jupyterlab/2.1.1/libexec/lib/python3.8/site-packages (0.0)\n",
      "Requirement already satisfied: scikit-learn in /usr/local/Cellar/jupyterlab/2.1.1/libexec/lib/python3.8/site-packages (from sklearn) (0.22.2.post1)\n",
      "Requirement already satisfied: numpy>=1.11.0 in /usr/local/Cellar/jupyterlab/2.1.1/libexec/lib/python3.8/site-packages (from scikit-learn->sklearn) (1.18.3)\n",
      "Requirement already satisfied: joblib>=0.11 in /usr/local/Cellar/jupyterlab/2.1.1/libexec/lib/python3.8/site-packages (from scikit-learn->sklearn) (0.14.1)\n",
      "Requirement already satisfied: scipy>=0.17.0 in /usr/local/Cellar/jupyterlab/2.1.1/libexec/lib/python3.8/site-packages (from scikit-learn->sklearn) (1.4.1)\n",
      "Note: you may need to restart the kernel to use updated packages.\n"
     ]
    }
   ],
   "source": [
    "pip install sklearn"
   ]
  },
  {
   "cell_type": "code",
   "execution_count": 4,
   "metadata": {},
   "outputs": [
    {
     "name": "stdout",
     "output_type": "stream",
     "text": [
      "Requirement already satisfied: matplotlib in /usr/local/Cellar/jupyterlab/2.1.1/libexec/lib/python3.8/site-packages (3.2.1)\n",
      "Requirement already satisfied: kiwisolver>=1.0.1 in /usr/local/Cellar/jupyterlab/2.1.1/libexec/lib/python3.8/site-packages (from matplotlib) (1.2.0)\n",
      "Requirement already satisfied: pyparsing!=2.0.4,!=2.1.2,!=2.1.6,>=2.0.1 in /usr/local/Cellar/jupyterlab/2.1.1/libexec/lib/python3.8/site-packages (from matplotlib) (2.4.7)\n",
      "Requirement already satisfied: cycler>=0.10 in /usr/local/Cellar/jupyterlab/2.1.1/libexec/lib/python3.8/site-packages (from matplotlib) (0.10.0)\n",
      "Requirement already satisfied: python-dateutil>=2.1 in /usr/local/Cellar/jupyterlab/2.1.1/libexec/lib/python3.8/site-packages (from matplotlib) (2.8.1)\n",
      "Requirement already satisfied: numpy>=1.11 in /usr/local/Cellar/jupyterlab/2.1.1/libexec/lib/python3.8/site-packages (from matplotlib) (1.18.3)\n",
      "Requirement already satisfied: six in /usr/local/Cellar/jupyterlab/2.1.1/libexec/lib/python3.8/site-packages (from cycler>=0.10->matplotlib) (1.14.0)\n",
      "Note: you may need to restart the kernel to use updated packages.\n"
     ]
    }
   ],
   "source": [
    "pip install matplotlib"
   ]
  },
  {
   "cell_type": "code",
   "execution_count": 5,
   "metadata": {},
   "outputs": [],
   "source": [
    "from sklearn import cluster\n",
    "from sklearn.cluster import KMeans\n",
    "import pandas as pd\n",
    "import numpy as np\n",
    "from matplotlib import pyplot as plt"
   ]
  },
  {
   "cell_type": "code",
   "execution_count": 6,
   "metadata": {},
   "outputs": [
    {
     "data": {
      "text/html": [
       "<div>\n",
       "<style scoped>\n",
       "    .dataframe tbody tr th:only-of-type {\n",
       "        vertical-align: middle;\n",
       "    }\n",
       "\n",
       "    .dataframe tbody tr th {\n",
       "        vertical-align: top;\n",
       "    }\n",
       "\n",
       "    .dataframe thead th {\n",
       "        text-align: right;\n",
       "    }\n",
       "</style>\n",
       "<table border=\"1\" class=\"dataframe\">\n",
       "  <thead>\n",
       "    <tr style=\"text-align: right;\">\n",
       "      <th></th>\n",
       "      <th>returns</th>\n",
       "      <th>dividendyield</th>\n",
       "    </tr>\n",
       "  </thead>\n",
       "  <tbody>\n",
       "    <tr>\n",
       "      <th>0</th>\n",
       "      <td>-19</td>\n",
       "      <td>0.0</td>\n",
       "    </tr>\n",
       "    <tr>\n",
       "      <th>1</th>\n",
       "      <td>-13</td>\n",
       "      <td>0.0</td>\n",
       "    </tr>\n",
       "    <tr>\n",
       "      <th>2</th>\n",
       "      <td>-14</td>\n",
       "      <td>0.0</td>\n",
       "    </tr>\n",
       "    <tr>\n",
       "      <th>3</th>\n",
       "      <td>-9</td>\n",
       "      <td>0.0</td>\n",
       "    </tr>\n",
       "    <tr>\n",
       "      <th>4</th>\n",
       "      <td>-19</td>\n",
       "      <td>0.0</td>\n",
       "    </tr>\n",
       "    <tr>\n",
       "      <th>...</th>\n",
       "      <td>...</td>\n",
       "      <td>...</td>\n",
       "    </tr>\n",
       "    <tr>\n",
       "      <th>643</th>\n",
       "      <td>4</td>\n",
       "      <td>4.0</td>\n",
       "    </tr>\n",
       "    <tr>\n",
       "      <th>644</th>\n",
       "      <td>13</td>\n",
       "      <td>4.0</td>\n",
       "    </tr>\n",
       "    <tr>\n",
       "      <th>645</th>\n",
       "      <td>1</td>\n",
       "      <td>4.0</td>\n",
       "    </tr>\n",
       "    <tr>\n",
       "      <th>646</th>\n",
       "      <td>22</td>\n",
       "      <td>4.0</td>\n",
       "    </tr>\n",
       "    <tr>\n",
       "      <th>647</th>\n",
       "      <td>-16</td>\n",
       "      <td>4.0</td>\n",
       "    </tr>\n",
       "  </tbody>\n",
       "</table>\n",
       "<p>648 rows × 2 columns</p>\n",
       "</div>"
      ],
      "text/plain": [
       "     returns  dividendyield\n",
       "0        -19            0.0\n",
       "1        -13            0.0\n",
       "2        -14            0.0\n",
       "3         -9            0.0\n",
       "4        -19            0.0\n",
       "..       ...            ...\n",
       "643        4            4.0\n",
       "644       13            4.0\n",
       "645        1            4.0\n",
       "646       22            4.0\n",
       "647      -16            4.0\n",
       "\n",
       "[648 rows x 2 columns]"
      ]
     },
     "execution_count": 6,
     "metadata": {},
     "output_type": "execute_result"
    }
   ],
   "source": [
    "df = pd.read_csv(\"sample_stocks.csv\")\n",
    "df"
   ]
  },
  {
   "cell_type": "code",
   "execution_count": 7,
   "metadata": {},
   "outputs": [
    {
     "data": {
      "text/html": [
       "<div>\n",
       "<style scoped>\n",
       "    .dataframe tbody tr th:only-of-type {\n",
       "        vertical-align: middle;\n",
       "    }\n",
       "\n",
       "    .dataframe tbody tr th {\n",
       "        vertical-align: top;\n",
       "    }\n",
       "\n",
       "    .dataframe thead th {\n",
       "        text-align: right;\n",
       "    }\n",
       "</style>\n",
       "<table border=\"1\" class=\"dataframe\">\n",
       "  <thead>\n",
       "    <tr style=\"text-align: right;\">\n",
       "      <th></th>\n",
       "      <th>returns</th>\n",
       "      <th>dividendyield</th>\n",
       "    </tr>\n",
       "  </thead>\n",
       "  <tbody>\n",
       "    <tr>\n",
       "      <th>count</th>\n",
       "      <td>648.000000</td>\n",
       "      <td>648.000000</td>\n",
       "    </tr>\n",
       "    <tr>\n",
       "      <th>mean</th>\n",
       "      <td>10.354938</td>\n",
       "      <td>2.434568</td>\n",
       "    </tr>\n",
       "    <tr>\n",
       "      <th>std</th>\n",
       "      <td>19.552899</td>\n",
       "      <td>1.645191</td>\n",
       "    </tr>\n",
       "    <tr>\n",
       "      <th>min</th>\n",
       "      <td>-20.000000</td>\n",
       "      <td>0.000000</td>\n",
       "    </tr>\n",
       "    <tr>\n",
       "      <th>25%</th>\n",
       "      <td>-10.000000</td>\n",
       "      <td>0.700000</td>\n",
       "    </tr>\n",
       "    <tr>\n",
       "      <th>50%</th>\n",
       "      <td>10.500000</td>\n",
       "      <td>2.500000</td>\n",
       "    </tr>\n",
       "    <tr>\n",
       "      <th>75%</th>\n",
       "      <td>31.000000</td>\n",
       "      <td>4.100000</td>\n",
       "    </tr>\n",
       "    <tr>\n",
       "      <th>max</th>\n",
       "      <td>40.000000</td>\n",
       "      <td>4.900000</td>\n",
       "    </tr>\n",
       "  </tbody>\n",
       "</table>\n",
       "</div>"
      ],
      "text/plain": [
       "          returns  dividendyield\n",
       "count  648.000000     648.000000\n",
       "mean    10.354938       2.434568\n",
       "std     19.552899       1.645191\n",
       "min    -20.000000       0.000000\n",
       "25%    -10.000000       0.700000\n",
       "50%     10.500000       2.500000\n",
       "75%     31.000000       4.100000\n",
       "max     40.000000       4.900000"
      ]
     },
     "execution_count": 7,
     "metadata": {},
     "output_type": "execute_result"
    }
   ],
   "source": [
    "df.describe()"
   ]
  },
  {
   "cell_type": "code",
   "execution_count": 8,
   "metadata": {},
   "outputs": [
    {
     "data": {
      "text/html": [
       "<div>\n",
       "<style scoped>\n",
       "    .dataframe tbody tr th:only-of-type {\n",
       "        vertical-align: middle;\n",
       "    }\n",
       "\n",
       "    .dataframe tbody tr th {\n",
       "        vertical-align: top;\n",
       "    }\n",
       "\n",
       "    .dataframe thead th {\n",
       "        text-align: right;\n",
       "    }\n",
       "</style>\n",
       "<table border=\"1\" class=\"dataframe\">\n",
       "  <thead>\n",
       "    <tr style=\"text-align: right;\">\n",
       "      <th></th>\n",
       "      <th>returns</th>\n",
       "      <th>dividendyield</th>\n",
       "    </tr>\n",
       "  </thead>\n",
       "  <tbody>\n",
       "    <tr>\n",
       "      <th>0</th>\n",
       "      <td>-19</td>\n",
       "      <td>0.0</td>\n",
       "    </tr>\n",
       "    <tr>\n",
       "      <th>1</th>\n",
       "      <td>-13</td>\n",
       "      <td>0.0</td>\n",
       "    </tr>\n",
       "    <tr>\n",
       "      <th>2</th>\n",
       "      <td>-14</td>\n",
       "      <td>0.0</td>\n",
       "    </tr>\n",
       "    <tr>\n",
       "      <th>3</th>\n",
       "      <td>-9</td>\n",
       "      <td>0.0</td>\n",
       "    </tr>\n",
       "    <tr>\n",
       "      <th>4</th>\n",
       "      <td>-19</td>\n",
       "      <td>0.0</td>\n",
       "    </tr>\n",
       "  </tbody>\n",
       "</table>\n",
       "</div>"
      ],
      "text/plain": [
       "   returns  dividendyield\n",
       "0      -19            0.0\n",
       "1      -13            0.0\n",
       "2      -14            0.0\n",
       "3       -9            0.0\n",
       "4      -19            0.0"
      ]
     },
     "execution_count": 8,
     "metadata": {},
     "output_type": "execute_result"
    }
   ],
   "source": [
    "df.head()"
   ]
  },
  {
   "cell_type": "code",
   "execution_count": 9,
   "metadata": {},
   "outputs": [
    {
     "name": "stdout",
     "output_type": "stream",
     "text": [
      "<class 'pandas.core.frame.DataFrame'>\n",
      "RangeIndex: 648 entries, 0 to 647\n",
      "Data columns (total 2 columns):\n",
      " #   Column         Non-Null Count  Dtype  \n",
      "---  ------         --------------  -----  \n",
      " 0   returns        648 non-null    int64  \n",
      " 1   dividendyield  648 non-null    float64\n",
      "dtypes: float64(1), int64(1)\n",
      "memory usage: 10.2 KB\n"
     ]
    }
   ],
   "source": [
    "df.info()"
   ]
  },
  {
   "cell_type": "code",
   "execution_count": 10,
   "metadata": {},
   "outputs": [
    {
     "data": {
      "image/png": "[encoded data removed]",
      "text/plain": [
       "<Figure size 432x288 with 1 Axes>"
      ]
     },
     "metadata": {
      "needs_background": "light"
     },
     "output_type": "display_data"
    }
   ],
   "source": [
    "# x = df['returns']\n",
    "# idx = np.argsort(x)\n",
    "# dividen = df['dividendyield']\n",
    "\n",
    "# plt.figure(figsize = (20, 7))\n",
    "\n",
    "# Plotar a dispersão de Returns vs dividendyield\n",
    "\n",
    "plt.scatter(df[\"returns\"], df[\"dividendyield\"])\n",
    "plt.show()"
   ]
  },
  {
   "cell_type": "code",
   "execution_count": 11,
   "metadata": {
    "scrolled": false
   },
   "outputs": [],
   "source": [
    "# Normalizar os dados\n",
    "\n",
    "from sklearn.preprocessing import StandardScaler\n",
    "\n",
    "normalize = StandardScaler()\n",
    "\n",
    "x = pd.DataFrame(normalize.fit_transform(df))"
   ]
  },
  {
   "cell_type": "code",
   "execution_count": 12,
   "metadata": {},
   "outputs": [
    {
     "data": {
      "image/png": "[encoded data removed]",
      "text/plain": [
       "<Figure size 432x288 with 1 Axes>"
      ]
     },
     "metadata": {
      "needs_background": "light"
     },
     "output_type": "display_data"
    }
   ],
   "source": [
    "# Plotar a dispersão novamente\n",
    "\n",
    "plt.scatter(x[0], x[1])\n",
    "plt.show()"
   ]
  },
  {
   "cell_type": "code",
   "execution_count": 13,
   "metadata": {},
   "outputs": [],
   "source": [
    "# Crie e treine o Kmeans\n",
    "\n",
    "from sklearn import cluster\n",
    "\n",
    "kmeans = cluster.KMeans(n_clusters = 2)\n",
    "kmeans = kmeans.fit(x)"
   ]
  },
  {
   "cell_type": "code",
   "execution_count": 14,
   "metadata": {},
   "outputs": [
    {
     "data": {
      "image/png": "[encoded data removed]",
      "text/plain": [
       "<Figure size 432x288 with 1 Axes>"
      ]
     },
     "metadata": {
      "needs_background": "light"
     },
     "output_type": "display_data"
    }
   ],
   "source": [
    "# Plote a dispersão juntamente com o KMeans.cluster_centers_\n",
    "# Na primeira linha foi usado \"c\", pois é: color, sequence, or sequence of colors\n",
    "\n",
    "plt.scatter(x[0], x[1], c = kmeans.labels_,  cmap = \"viridis_r\")\n",
    "plt.scatter(kmeans.cluster_centers_, kmeans.cluster_centers_, color = \"blue\")\n",
    "plt.show()"
   ]
  },
  {
   "cell_type": "code",
   "execution_count": 15,
   "metadata": {},
   "outputs": [
    {
     "name": "stdout",
     "output_type": "stream",
     "text": [
      "1296.0\n",
      "386.98068568789614\n",
      "77.62109287678899\n",
      "61.645431515125466\n",
      "54.05304317182545\n",
      "47.94481730115659\n",
      "41.82918560622205\n",
      "37.32535802966952\n",
      "33.67665162322588\n",
      "29.536386870133075\n",
      "27.226257686902716\n",
      "24.112937198786298\n",
      "20.844490825782454\n",
      "19.155912821002545\n"
     ]
    },
    {
     "data": {
      "image/png": "[encoded data removed]",
      "text/plain": [
       "<Figure size 432x288 with 1 Axes>"
      ]
     },
     "metadata": {
      "needs_background": "light"
     },
     "output_type": "display_data"
    }
   ],
   "source": [
    "# Analisar K, usando o método Elbow\n",
    "\n",
    "inertia = []\n",
    "\n",
    "for i in range(1,15):\n",
    "    kmeans = KMeans(n_clusters = i)\n",
    "    kmeans = kmeans.fit(x)\n",
    "    inertia.append(kmeans.inertia_)\n",
    "    print(kmeans.inertia_)\n",
    "\n",
    "plt.plot(range(1, 15), inertia, \"bx-\")\n",
    "plt.plot(range(1, 15), inertia, \"bx-\")\n",
    "plt.show()"
   ]
  },
  {
   "cell_type": "markdown",
   "metadata": {},
   "source": [
    "# Clustering hierárquico"
   ]
  },
  {
   "cell_type": "code",
   "execution_count": 21,
   "metadata": {},
   "outputs": [],
   "source": [
    "# imports necessários\n",
    "\n",
    "from sklearn.cluster import AgglomerativeClustering\n",
    "from scipy.cluster.hierarchy import dendrogram"
   ]
  },
  {
   "cell_type": "code",
   "execution_count": 22,
   "metadata": {},
   "outputs": [
    {
     "data": {
      "text/plain": [
       "array([647, 623, 620, 613, 597, 615, 355, 618, 621, 344, 439, 421, 619,\n",
       "       512, 646, 614, 609, 617, 622, 616, 497, 575, 612, 645, 322, 644,\n",
       "       624, 631, 611, 641, 490, 489, 449, 244, 353, 640, 363, 339, 632,\n",
       "       628, 643, 428, 630, 321, 482, 351, 433, 627, 354, 625, 629, 341,\n",
       "       434, 626, 305, 642, 636, 315, 326, 638, 639, 635, 319, 634, 589,\n",
       "       493, 637, 538, 369, 418, 320, 343, 633, 318, 427, 610, 601, 605,\n",
       "       312, 383, 304, 608, 479, 333, 540, 311, 596, 348, 600, 607, 606,\n",
       "       307, 593, 595, 599, 159, 594, 296, 592, 604, 598, 542, 298, 546,\n",
       "       602, 541, 300, 316, 603, 317, 358, 158, 310, 478, 591, 324, 485,\n",
       "       576, 577, 314, 578, 582, 309, 431, 528, 403, 581, 382, 483, 574,\n",
       "       287, 580, 313, 579, 160, 584, 573, 308, 570, 590, 336, 588, 329,\n",
       "       492, 376, 587, 323, 586, 325, 569, 422, 568, 294, 352, 572, 571,\n",
       "       585, 583, 567, 566, 565, 481, 563, 561, 554, 153, 552, 562, 303,\n",
       "       553, 171, 151, 374, 337, 560, 161, 551, 564, 362, 545, 555, 272,\n",
       "       559, 347, 345, 157, 550, 549, 544, 360, 543, 154, 548, 558, 328,\n",
       "       156, 557, 556, 547, 536, 450, 452, 349, 391, 535, 429, 495, 534,\n",
       "       385, 224, 394, 384, 507, 459, 448, 455, 392, 533, 398, 454, 447,\n",
       "       456, 445, 531, 446, 375, 532, 295, 444, 469, 458, 476, 457, 266,\n",
       "       471, 227, 453, 511, 510, 525, 387, 527, 530, 386, 526, 509, 443,\n",
       "       395, 467, 442, 519, 529, 441, 508, 505, 440, 264, 263, 487, 195,\n",
       "       460, 523, 515, 513, 219, 226, 524, 221, 468, 424, 228, 451, 438,\n",
       "       255, 113, 514, 225, 437, 518, 521, 520, 261, 522, 220, 357, 331,\n",
       "       473, 260, 259, 539, 223, 517, 516, 334, 466, 253, 432, 500, 306,\n",
       "       267, 416, 503, 436, 506, 256, 389, 435, 498, 499, 252, 504, 216,\n",
       "       410, 502, 215, 430, 501, 491, 107, 248, 496, 109, 152, 258, 245,\n",
       "       218, 494, 251, 250,  79, 247, 254, 246, 222, 122, 423, 488, 217,\n",
       "       484, 249, 213, 241, 243, 470, 233, 123, 486, 414, 214, 242, 302,\n",
       "       110, 121, 409,  60, 131, 472, 240, 475, 480, 239, 274, 477, 257,\n",
       "       284, 119, 474, 425, 413, 420, 108, 237, 405, 236, 235, 407, 238,\n",
       "       126, 120, 234, 116, 464, 463, 397, 465, 262, 204, 232, 417, 229,\n",
       "       401, 462, 130,  53, 399, 288, 461, 127, 412, 426, 293, 230, 419,\n",
       "       291,  78, 210, 128, 406, 408, 378, 212, 299, 211, 105, 209, 297,\n",
       "       208, 203, 202, 101, 411, 415, 289, 205, 206, 207, 371,  76, 102,\n",
       "       148, 275, 301, 155, 292, 290, 327, 147,  50, 231, 103, 404, 400,\n",
       "       388, 402, 396,  77, 197, 191,  75,  38, 199, 144, 379, 200, 201,\n",
       "       198,  98, 281,  73, 381, 190, 283, 143, 285, 393, 141, 390, 104,\n",
       "       192, 149, 194, 193, 146, 196,  37, 278,  95,  97,  96,  47, 282,\n",
       "       150, 111, 145,  48, 279, 359, 335, 265, 140,  72, 367, 368, 100,\n",
       "       361, 365, 129, 380, 112, 166, 114, 286, 187, 364, 189,  74, 332,\n",
       "       276, 377, 179, 181, 165,  36, 366, 188, 180, 124, 183,  82,  93,\n",
       "       137, 117, 372,  94, 373, 277, 138, 132, 370, 185, 186,  56, 280,\n",
       "       142, 271, 184, 182, 115,  91, 356, 178, 125,  65, 175, 177,  88,\n",
       "       176, 273, 139, 330, 537,  87,  70,  64,  69,  43,  89, 270, 164,\n",
       "       346,  61, 350, 135,  62, 163, 173, 136, 174,  63, 172,  86,  67,\n",
       "        34,  81,  85,  90, 162,  42, 342, 338, 170, 269, 340,  99,  55,\n",
       "       169,  44, 168,  84, 268,  40,  68,  80,  71,  54, 167,  83, 133,\n",
       "        21,  39,  59,  57, 134, 118,  33,  58,  46,  41,  49,  66,  51,\n",
       "        32,  28,  35,  20,  24,  29,  23,  19,  17,  31,  18, 106,  52,\n",
       "        27,  92,  11,  45,   8,  16,  22,  13,  26,  30,  14,   6,  15,\n",
       "         7,   9,  25,   3,  12,  10,   5,   4,   2,   1,   0])"
      ]
     },
     "execution_count": 22,
     "metadata": {},
     "output_type": "execute_result"
    }
   ],
   "source": [
    "# Implemente Clustering Hierárquico\n",
    "\n",
    "modelo = AgglomerativeClustering(distance_threshold = 0, n_clusters = None, linkage = \"single\")\n",
    "modelo.fit_predict(x)\n",
    "# clusters.children_"
   ]
  },
  {
   "cell_type": "code",
   "execution_count": 23,
   "metadata": {},
   "outputs": [
    {
     "data": {
      "image/png": "[encoded data removed]",
      "text/plain": [
       "<Figure size 432x288 with 1 Axes>"
      ]
     },
     "metadata": {
      "needs_background": "light"
     },
     "output_type": "display_data"
    }
   ],
   "source": [
    "# Plotando o dendograma\n",
    "\n",
    "def plot_dendrogram(modelo, **kwargs):\n",
    "    \n",
    "    counts = np.zeros(modelo.children_.shape[0])\n",
    "    n_samples = len(modelo.labels_)\n",
    "    \n",
    "    for i, merge in enumerate(modelo.children_):\n",
    "        current_count = 0\n",
    "        for child_index in merge:\n",
    "            if child_index < n_samples:\n",
    "                current_count += 1\n",
    "            else:\n",
    "                current_count += counts[child_index - n_samples]\n",
    "            counts[i] = current_count\n",
    "    linkage_matrix = np.column_stack([modelo.children_, modelo.distances_, counts]).astype(float)\n",
    "    dendrogram(linkage_matrix, **kwargs)\n",
    "\n",
    "plot_dendrogram(modelo, truncate_mode = 'level', p = 12)\n",
    "plt.show()"
   ]
  },
  {
   "cell_type": "code",
   "execution_count": 24,
   "metadata": {},
   "outputs": [],
   "source": [
    "# DBSCAN\n",
    "# https://scikit-learn.org/stable/modules/generated/sklearn.cluster.dbscan.html?highlight=dbscan#sklearn.cluster.dbscan\n",
    "\n",
    "from sklearn.cluster import DBSCAN\n",
    "\n",
    "dbscan = DBSCAN(eps = .5, min_samples = 15).fit(x)\n",
    "\n",
    "# Não consegui desenvolver essa forma de clustering"
   ]
  }
 ],
 "metadata": {
  "kernelspec": {
   "display_name": "Python 3",
   "language": "python",
   "name": "python3"
  },
  "language_info": {
   "codemirror_mode": {
    "name": "ipython",
    "version": 3
   },
   "file_extension": ".py",
   "mimetype": "text/x-python",
   "name": "python",
   "nbconvert_exporter": "python",
   "pygments_lexer": "ipython3",
   "version": "3.8.2"
  }
 },
 "nbformat": 4,
 "nbformat_minor": 4
}
