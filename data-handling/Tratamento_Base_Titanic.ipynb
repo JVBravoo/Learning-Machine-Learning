{
 "cells": [
  {
   "cell_type": "code",
   "execution_count": null,
   "metadata": {
    "collapsed": true
   },
   "outputs": [],
   "source": [
    "#Leitura da base\n",
    "inicial = spark.read.format(\"csv\").option(\"header\", \"true\").load(\"Documents/Titanic/train.csv\")"
   ]
  },
  {
   "cell_type": "code",
   "execution_count": null,
   "metadata": {
    "collapsed": true
   },
   "outputs": [],
   "source": [
    "import pyspark.sql.functions as SF"
   ]
  },
  {
   "cell_type": "code",
   "execution_count": null,
   "metadata": {
    "collapsed": true
   },
   "outputs": [],
   "source": [
    "#UDF para tratamento nos Nomes e conseguir retornar apenas os sobrenomes\n",
    "@SF.udf(\"String\")\n",
    "def sobrenome(name):\n",
    "    \n",
    "    if name is None:\n",
    "        return None\n",
    "    else: \n",
    "        aux= name.replace(\"\\\"\",\" \")\n",
    "        aux1= aux.split(\",\")\n",
    "        return aux1[0]"
   ]
  },
  {
   "cell_type": "code",
   "execution_count": null,
   "metadata": {
    "collapsed": true
   },
   "outputs": [],
   "source": [
    "df1=inicial.withColumn(\"Sobrenome\",sobrenome(\"Name\"))"
   ]
  },
  {
   "cell_type": "code",
   "execution_count": null,
   "metadata": {
    "collapsed": true
   },
   "outputs": [],
   "source": [
    "# Cast da idade de String para Float\n",
    "df3=df1.withColumn(\"age\", df3[\"age\"].cast(\"Float\"))"
   ]
  },
  {
   "cell_type": "code",
   "execution_count": null,
   "metadata": {
    "collapsed": true
   },
   "outputs": [],
   "source": [
    "#Inicio de tratamento com a  coluna de idade para preencher com uma idade estimada as pessas que estavam com este dado Nulo\n",
    "dfi=df3.where(\"Sex = 'female'\").groupBy(\"Pclass\").avg(\"Age\")\n",
    "dfi=dfi.withColumn(\"Sex\",SF.lit(\"female\"))\n",
    "\n",
    "#\n",
    "\n",
    "dfi2=df3.where(\"Sex = 'male'\").groupBy(\"Pclass\").avg(\"Age\")\n",
    "dfi2=dfi2.withColumn(\"Sex\",SF.lit(\"male\"))"
   ]
  },
  {
   "cell_type": "code",
   "execution_count": null,
   "metadata": {
    "collapsed": true
   },
   "outputs": [],
   "source": [
    "dfu=dfi.union(dfi2)"
   ]
  },
  {
   "cell_type": "code",
   "execution_count": null,
   "metadata": {
    "collapsed": true
   },
   "outputs": [],
   "source": [
    "df4=df3.join(dfu,[\"Pclass\",\"Sex\"], 'left')"
   ]
  },
  {
   "cell_type": "code",
   "execution_count": null,
   "metadata": {
    "collapsed": true
   },
   "outputs": [],
   "source": [
    "@SF.udf(\"Float\")\n",
    "def idade(id1,id2):\n",
    "    if id1 is None and id2 is None :\n",
    "        return None\n",
    "    elif id1 is None:\n",
    "        return id2\n",
    "    else:\n",
    "        return id1\n",
    "    "
   ]
  },
  {
   "cell_type": "code",
   "execution_count": null,
   "metadata": {
    "collapsed": true
   },
   "outputs": [],
   "source": [
    "# criacao da nova coluna com as idades estimadas das pessoas\n",
    "df5=df4.withColumn(\"Estimated_Age\", idade(\"Age\",\"avg(Age)\"))"
   ]
  },
  {
   "cell_type": "code",
   "execution_count": null,
   "metadata": {
    "collapsed": true
   },
   "outputs": [],
   "source": [
    "# cast de string para float da coluna Fare\n",
    "df6=df5.withColumn(\"Fare\", df3[\"Fare\"].cast(\"Float\"))"
   ]
  },
  {
   "cell_type": "code",
   "execution_count": null,
   "metadata": {
    "collapsed": true
   },
   "outputs": [],
   "source": [
    "# Todas as colunas  que foram dropadas da base foi por um dos motivos abaixo:\n",
    "# 1- preenchimento baixo\n",
    "# 2- O dado foi transformado em outra coluna\n",
    "# 3- Os dados nao eram relevantes para a base no momento,ou para o uso que vai ser feito com a base (Colunas de Nome,ticket)\n",
    "\n",
    "df7=df6.drop(\"avg(Age)\",\"Cabin\")"
   ]
  },
  {
   "cell_type": "code",
   "execution_count": null,
   "metadata": {
    "collapsed": true
   },
   "outputs": [],
   "source": [
    "df8=df7.withColumn(\"SibSp\", df7[\"SibSp\"].cast(\"Int\"))"
   ]
  },
  {
   "cell_type": "code",
   "execution_count": null,
   "metadata": {
    "collapsed": true
   },
   "outputs": [],
   "source": [
    "df9=df8.withColumn(\"Parch\", df8[\"Parch\"].cast(\"Int\"))"
   ]
  },
  {
   "cell_type": "code",
   "execution_count": null,
   "metadata": {
    "collapsed": true
   },
   "outputs": [],
   "source": [
    "df10=df9.groupBy(\"Sobrenome\").count()"
   ]
  },
  {
   "cell_type": "code",
   "execution_count": null,
   "metadata": {
    "collapsed": true
   },
   "outputs": [],
   "source": [
    "# um novo tratamento de string na coluna sobrenome\n",
    "@SF.udf(\"String\")\n",
    "def sobrenome2(name):\n",
    "    if name is None:\n",
    "        return None\n",
    "    else:\n",
    "        return str(name.strip())"
   ]
  },
  {
   "cell_type": "code",
   "execution_count": null,
   "metadata": {
    "collapsed": true
   },
   "outputs": [],
   "source": [
    "df9=df9.withColumn(\"Sobrenome\", sobrenome2(\"Sobrenome\"))"
   ]
  },
  {
   "cell_type": "code",
   "execution_count": null,
   "metadata": {
    "collapsed": true
   },
   "outputs": [],
   "source": [
    "df11=df9.join(df10,[\"Sobrenome\"],'left')"
   ]
  },
  {
   "cell_type": "code",
   "execution_count": null,
   "metadata": {
    "collapsed": true
   },
   "outputs": [],
   "source": [
    "# Criacao da coluna family que significa quantos parentes no geral aquela pessoa tem abordo do navio\n",
    "df12=df11.withColumn(\"Family\",(df11[\"count\"]-1))"
   ]
  },
  {
   "cell_type": "code",
   "execution_count": null,
   "metadata": {
    "collapsed": true
   },
   "outputs": [],
   "source": [
    "df13=df12.drop(\"count\",\"SibSp\",\"Parch\",\"age\")"
   ]
  },
  {
   "cell_type": "code",
   "execution_count": null,
   "metadata": {
    "collapsed": true
   },
   "outputs": [],
   "source": [
    "df14=df13.drop(\"Sobrenome\",\"Name\",\"Ticket\")"
   ]
  },
  {
   "cell_type": "code",
   "execution_count": null,
   "metadata": {
    "collapsed": true
   },
   "outputs": [],
   "source": [
    "df15=df14.withColumn(\"Sex\", SF.when(SF.col(\"Sex\")=='male',0).otherwise(1))"
   ]
  },
  {
   "cell_type": "code",
   "execution_count": null,
   "metadata": {
    "collapsed": true
   },
   "outputs": [],
   "source": [
    "df16=df15.withColumn(\"Embarked\", SF.when(SF.col(\"Embarked\")=='Q',0).otherwise(SF.col(\"Embarked\")))"
   ]
  },
  {
   "cell_type": "code",
   "execution_count": null,
   "metadata": {
    "collapsed": true
   },
   "outputs": [],
   "source": [
    "df17=df16.withColumn(\"Embarked\", SF.when(SF.col(\"Embarked\")=='C',1).otherwise(SF.col(\"Embarked\")))"
   ]
  },
  {
   "cell_type": "code",
   "execution_count": null,
   "metadata": {
    "collapsed": true
   },
   "outputs": [],
   "source": [
    "df18=df17.withColumn(\"Embarked\", SF.when(SF.col(\"Embarked\")=='S',2).otherwise(SF.col(\"Embarked\")))"
   ]
  },
  {
   "cell_type": "code",
   "execution_count": null,
   "metadata": {
    "collapsed": true
   },
   "outputs": [],
   "source": [
    "df19 = df18.withColumn(\"Pclass\", df18[\"Pclass\"].cast(\"double\"))\n",
    "df19 = df19.withColumn(\"PassengerId\", df19[\"PassengerId\"].cast(\"double\"))\n",
    "df19 = df19.withColumn(\"Survived\", df19[\"Survived\"].cast(\"double\"))\n",
    "df19 = df19.withColumn(\"Embarked\", df19[\"Embarked\"].cast(\"double\"))\n"
   ]
  },
  {
   "cell_type": "code",
   "execution_count": null,
   "metadata": {
    "collapsed": true,
    "scrolled": true
   },
   "outputs": [],
   "source": [
    "df19.describe().show(100,False)"
   ]
  },
  {
   "cell_type": "code",
   "execution_count": null,
   "metadata": {
    "collapsed": true
   },
   "outputs": [],
   "source": [
    "# criacao de colunas auxiliares para normalizacao\n",
    "df20=df19.withColumn(\"Max_age\",SF.lit((80.0)))\n",
    "df20=df20.withColumn(\"Max_Family\",SF.lit(8.0))\n",
    "df20=df20.withColumn(\"Max_Embarked\",SF.lit(2.0))\n",
    "df20=df20.withColumn(\"Max_Fare\",SF.lit(512.3292))\n",
    "df20=df20.withColumn(\"Max_Survived\",SF.lit(1.0))\n",
    "df20=df20.withColumn(\"Max_PassengerId\",SF.lit(891.0))\n",
    "df20=df20.withColumn(\"Max_Sex\",SF.lit(1.0))\n",
    "df20=df20.withColumn(\"Max_Pclass\",SF.lit(3.0))\n",
    "\n",
    "\n",
    "\n",
    "df20=df20.withColumn(\"Min_age\",SF.lit(0.42))\n",
    "df20=df20.withColumn(\"Min_Family\",SF.lit(0.0))\n",
    "df20=df20.withColumn(\"Min_Embarked\",SF.lit(0.0))\n",
    "df20=df20.withColumn(\"Min_Fare\",SF.lit(0.0000))\n",
    "df20=df20.withColumn(\"Min_Survived\",SF.lit(0.0))\n",
    "df20=df20.withColumn(\"Min_PassengerId\",SF.lit(1.0))\n",
    "df20=df20.withColumn(\"Min_Sex\",SF.lit(0.0))\n",
    "df20=df20.withColumn(\"Min_Pclass\",SF.lit(1.0))"
   ]
  },
  {
   "cell_type": "code",
   "execution_count": null,
   "metadata": {
    "collapsed": true
   },
   "outputs": [],
   "source": [
    "# normalizacao\n",
    "df21=df20.withColumn(\"Pclass\",(((df20[\"Pclass\"]-(df20[\"Min_Pclass\"]))/((df20[\"Max_Pclass\"])-(df20[\"Min_Pclass\"])))))\n",
    "df21=df21.withColumn(\"Family\",(((df21[\"Family\"]-(df21[\"Min_Family\"]))/((df21[\"Max_Family\"])-(df21[\"Min_Family\"])))))\n",
    "df21=df21.withColumn(\"Fare\",(((df21[\"Fare\"]-(df21[\"Min_Fare\"]))/((df21[\"Max_Fare\"])-(df21[\"Min_Fare\"])))))\n",
    "df21=df21.withColumn(\"Estimated_Age\",(((df21[\"Estimated_Age\"]-(df21[\"Min_age\"]))/((df21[\"Max_age\"])-(df21[\"Min_age\"])))))\n",
    "df21=df21.withColumn(\"Embarked\",(((df21[\"Embarked\"]-(df21[\"Min_Embarked\"]))/((df21[\"Max_Embarked\"])-(df21[\"Min_Embarked\"])))))\n",
    "df21=df21.withColumn(\"Survived\",(((df21[\"Survived\"]-(df21[\"Min_Survived\"]))/((df21[\"Max_Survived\"])-(df21[\"Min_Survived\"])))))\n",
    "df21=df21.withColumn(\"PassengerId\",(((df21[\"PassengerId\"]-(df21[\"Min_PassengerId\"]))/((df21[\"Max_PassengerId\"])-(df21[\"Min_PassengerId\"])))))\n",
    "df21=df21.withColumn(\"Sex\",(((df21[\"Sex\"]-(df21[\"Min_Sex\"]))/((df21[\"Max_Sex\"])-(df21[\"Min_Sex\"])))))"
   ]
  },
  {
   "cell_type": "code",
   "execution_count": null,
   "metadata": {
    "collapsed": true
   },
   "outputs": [],
   "source": [
    "df22=df21.select(\"Pclass\",\"Family\",\"Estimated_Age\",\"Fare\",\"Embarked\",\"PassengerId\",\"Sex\",\"Survived\")"
   ]
  },
  {
   "cell_type": "code",
   "execution_count": null,
   "metadata": {
    "collapsed": true
   },
   "outputs": [],
   "source": [
    "df22.coalesce(1).write.mode(\"overwrite\").format(\"com.databricks.spark.csv\").option(\"header\", \"true\").option(\"delimiter\", \"\\t\").save(\"Documents/Titanic/titanic_3.csv\")"
   ]
  },
  {
   "cell_type": "code",
   "execution_count": 10,
   "metadata": {
    "collapsed": true
   },
   "outputs": [],
   "source": [
    "df = spark.read.format(\"csv\").option(\"header\", \"true\").option(\"delimiter\", \"\\t\").load(\"Documents/Titanic/titanic_3.csv\")\n",
    "#df = df.select(\"*\").toPandas()"
   ]
  },
  {
   "cell_type": "code",
   "execution_count": null,
   "metadata": {
    "collapsed": true
   },
   "outputs": [],
   "source": []
  },
  {
   "cell_type": "code",
   "execution_count": null,
   "metadata": {
    "collapsed": true
   },
   "outputs": [],
   "source": []
  },
  {
   "cell_type": "code",
   "execution_count": null,
   "metadata": {
    "collapsed": true
   },
   "outputs": [],
   "source": []
  },
  {
   "cell_type": "code",
   "execution_count": null,
   "metadata": {
    "collapsed": true
   },
   "outputs": [],
   "source": []
  }
 ],
 "metadata": {
  "kernelspec": {
   "display_name": "Python 3",
   "language": "python",
   "name": "python3"
  },
  "language_info": {
   "codemirror_mode": {
    "name": "ipython",
    "version": 3
   },
   "file_extension": ".py",
   "mimetype": "text/x-python",
   "name": "python",
   "nbconvert_exporter": "python",
   "pygments_lexer": "ipython3",
   "version": "3.6.3"
  }
 },
 "nbformat": 4,
 "nbformat_minor": 2
}
